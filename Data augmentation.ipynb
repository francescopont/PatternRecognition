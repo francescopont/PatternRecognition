{
 "cells": [
  {
   "cell_type": "code",
   "execution_count": 1,
   "metadata": {},
   "outputs": [],
   "source": [
    "from keras_preprocessing.image import ImageDataGenerator\n",
    "\n"
   ]
  },
  {
   "cell_type": "code",
   "execution_count": 4,
   "metadata": {},
   "outputs": [
    {
     "ename": "NameError",
     "evalue": "name 'load_img' is not defined",
     "output_type": "error",
     "traceback": [
      "\u001b[1;31m---------------------------------------------------------------------------\u001b[0m",
      "\u001b[1;31mNameError\u001b[0m                                 Traceback (most recent call last)",
      "\u001b[1;32m<ipython-input-4-c34c0958c22f>\u001b[0m in \u001b[0;36m<module>\u001b[1;34m\u001b[0m\n\u001b[1;32m----> 1\u001b[1;33m \u001b[0mbenignImg\u001b[0m \u001b[1;33m=\u001b[0m \u001b[0mload_img\u001b[0m\u001b[1;33m(\u001b[0m\u001b[1;34m'fig_4.jpg'\u001b[0m\u001b[1;33m)\u001b[0m\u001b[1;33m\u001b[0m\u001b[1;33m\u001b[0m\u001b[0m\n\u001b[0m\u001b[0;32m      2\u001b[0m \u001b[1;33m\u001b[0m\u001b[0m\n",
      "\u001b[1;31mNameError\u001b[0m: name 'load_img' is not defined"
     ]
    }
   ],
   "source": [
    "datagen = ImageDataGenerator(rotation_range=90)\n",
    "\n",
    "# fit parameters from data\n",
    "datagen.fit(x_train)\n",
    "\n",
    "# Configure batch size and retrieve one batch of images\n",
    "for X_batch, y_batch in datagen.flow(x_train, batch_size=9):\n",
    "    # Show 9 images\n",
    "    for i in range(0, 9):\n",
    "        pyplot.subplot(330 + 1 + i)\n",
    "        pyplot.imshow(X_batch[i].reshape(img_rows, img_cols, 3))\n",
    "    # show the plot\n",
    "    pyplot.show()\n",
    "    break\n"
   ]
  },
  {
   "cell_type": "code",
   "execution_count": 3,
   "metadata": {},
   "outputs": [],
   "source": [
    "datagen=ImageDataGenerator( horizontal_flip= True, #no doubt\n",
    "                           vertical_flip = True, #no doubt\n",
    "                           rotation_range=20, #I would go easy on this one, since artifacts appear in the corner) \n",
    "                           width_shift_range=0.1,  #shift the images a little bit from the centre. But information will be lost\n",
    "                           height_shift_range=0.1, #shift the images a little bit from the centre. But information will be lost\n",
    "                           brightness_range=None, #wouldn't this just fuck up the normalization? \n",
    "                           shear_range=0.35,  # I think this is the most important one. \n",
    "                           zoom_range=[0,0.1], #Bit of zoom (I assume that the ROI are already zoomed a lot)\n",
    "                           fill_mode='wrap', #This one I'm not so sure on but I looked at those pictures and I guess the least information is lost this way https://fairyonice.github.io/Learn-about-ImageDataGenerator.html   \n",
    "                           #rescale=1./255,  #As we don't change something to brightness etc, we don't have to rescale right? \n",
    "                           #validation_split=0.0, \n",
    "                           #interpolation_order=1)"
   ]
  }
 ],
 "metadata": {
  "kernelspec": {
   "display_name": "Python 3",
   "language": "python",
   "name": "python3"
  },
  "language_info": {
   "codemirror_mode": {
    "name": "ipython",
    "version": 3
   },
   "file_extension": ".py",
   "mimetype": "text/x-python",
   "name": "python",
   "nbconvert_exporter": "python",
   "pygments_lexer": "ipython3",
   "version": "3.7.3"
  }
 },
 "nbformat": 4,
 "nbformat_minor": 2
}
