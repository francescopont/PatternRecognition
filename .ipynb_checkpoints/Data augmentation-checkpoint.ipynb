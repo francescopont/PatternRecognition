{
 "cells": [
  {
   "cell_type": "code",
   "execution_count": 2,
   "metadata": {},
   "outputs": [],
   "source": [
    "from keras_preprocessing.image import ImageDataGenerator"
   ]
  },
  {
   "cell_type": "code",
   "execution_count": 3,
   "metadata": {},
   "outputs": [],
   "source": [
    "datagen=ImageDataGenerator( horizontal_flip= True, \n",
    "                           vertical_flip = True, \n",
    "                           rotation_range=20, #I would go easy on this one, since artifacts appear in the corner) \n",
    "                           width_shift_range=0.1,  #shift the images a little bit from the centre\n",
    "                           height_shift_range=0.1, #shift the images a little bit from the centre\n",
    "                           brightness_range=None, \n",
    "                           shear_range=0.35, \n",
    "                           zoom_range=[0,0.1], #Bit of zoom (I assume that the ROI are already zoomed a lot)\n",
    "                           fill_mode='nearest',  \n",
    "                           rescale=None, \n",
    "                           validation_split=0.0, \n",
    "                           interpolation_order=1)"
   ]
  }
 ],
 "metadata": {
  "kernelspec": {
   "display_name": "Python 3",
   "language": "python",
   "name": "python3"
  },
  "language_info": {
   "codemirror_mode": {
    "name": "ipython",
    "version": 3
   },
   "file_extension": ".py",
   "mimetype": "text/x-python",
   "name": "python",
   "nbconvert_exporter": "python",
   "pygments_lexer": "ipython3",
   "version": "3.7.3"
  }
 },
 "nbformat": 4,
 "nbformat_minor": 2
}
