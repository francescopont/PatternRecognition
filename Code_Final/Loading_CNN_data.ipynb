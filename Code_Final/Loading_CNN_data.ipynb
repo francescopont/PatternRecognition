{
 "cells": [
  {
   "cell_type": "code",
   "execution_count": null,
   "metadata": {},
   "outputs": [],
   "source": [
    "# In[1]:\n",
    "import pandas as pd\n",
    "import numpy as np\n",
    "import os\n",
    "import pydicom\n",
    "import cv2\n",
    "\n",
    "rootdir = ''\n",
    "\n",
    "\n",
    "train_y_cala = pd.read_csv(rootdir + \"calc_case_description_test_set.csv\")\n",
    "train_y_cala = [train_y_cala.assessment, train_y_cala.pathology]\n",
    "\n",
    "## Standard dimension of the image\n",
    "std_height = 299\n",
    "std_width = 299\n",
    "train_x_cala = np.zeros(shape = (len(train_y_cala[0]), std_height, std_width))\n",
    "num_image_cala = 0\n",
    "train_x_cala_ori_size = np.zeros(shape = (len(train_y_cala[0]), 2))\n",
    "train_x_index = np.zeros(shape = (2 * len(train_y_cala[0])))\n",
    "train_x_missing = []\n",
    "train_x_total_num = 0\n",
    "# rootdit: CBIS-DDSM is default  or other folder where you save images\n",
    "def list_all_files_by_size(rootdir):\n",
    "    global train_x_cala, num_image_cala, train_x_missing, train_x_total_num, train_x_index\n",
    "    _files = []\n",
    "    list = os.listdir(rootdir) # list all dir and file\n",
    "    for i in range(0, len(list)):\n",
    "        path = os.path.join(rootdir,list[i])\n",
    "        if os.path.isdir(path):\n",
    "            _files.extend(list_all_files_by_size(path))\n",
    "        if os.path.isfile(path):\n",
    "            # fsize = os.path.getsize(path)\n",
    "            \n",
    "            # read dcm image\n",
    "            temp = pydicom.dcmread(path)\n",
    "            if sum(sum(temp.pixel_array)) > 1000000:\n",
    "                # resize and add new pixel array to train_x\n",
    "                # interpolation is parameter of different methods to resize image\n",
    "                train_x_cala_ori_size[num_image_cala] = [len(temp.pixel_array), len(temp.pixel_array[0])]\n",
    "                train_x_cala[num_image_cala] = cv2.resize(temp.pixel_array, (std_width, std_height), interpolation = cv2.INTER_CUBIC)\n",
    "                num_image_cala += 1\n",
    "                train_x_index[train_x_total_num] = 1\n",
    "                # continue\n",
    "            \n",
    "            _files.append(path)\n",
    "            train_x_total_num += 1\n",
    "\n",
    "    return _files\n",
    "\n",
    "def find_missing(train_x_index, train_x_missing):\n",
    "    for i in range(0, len(train_x_index)):\n",
    "        if (i > 0) & (i % 2 == 1) & (train_x_index[i - 1] == 0) & (train_x_index[i] == 0):\n",
    "            train_x_missing.append(int(i / 2))\n",
    "\n",
    "def remove_index(image, _list):\n",
    "    image_index = [i for i in range(len(image))]\n",
    "    image_index = set(image_index)\n",
    "    black_index = set(_list)\n",
    "    index = list(image_index - black_index)\n",
    "    new_image = [image[i] for i in index]\n",
    "    return new_image\n",
    "\n",
    "_list = list_all_files_by_size(rootdir + 'CBIS-DDSM calc test\")\n",
    "\n",
    "find_missing(train_x_index, train_x_missing)\n",
    "\n",
    "train_y_cala = remove_index(train_y_cala, train_x_missing)"
   ]
  },
  {
   "cell_type": "code",
   "execution_count": null,
   "metadata": {},
   "outputs": [],
   "source": [
    "## Renaming elements\n",
    "\n",
    "train_x = train_x_cala\n",
    "train_y = train_y_cala"
   ]
  },
  {
   "cell_type": "code",
   "execution_count": null,
   "metadata": {},
   "outputs": [],
   "source": [
    "## Defining shape of train_x, right input for the Inception V3 model\n",
    "\n",
    "train_x = train_x.reshape(len(train_x),299,299,1)\n",
    "train_x = np.repeat(train_x[...,], 3, -1)\n",
    "\n",
    "## Normalizing the pixel values to [0,1] and saving as an array\n",
    "train_x = train_x/65535\n",
    "train_x = np.asarray(train_x)"
   ]
  },
  {
   "cell_type": "code",
   "execution_count": null,
   "metadata": {},
   "outputs": [],
   "source": [
    "## Defining the labels & preprocessing them\n",
    "\n",
    "train_labels = np.asarray(train_y[1])\n",
    "\n",
    "\n",
    "# Setting all values above 1 to 1\n",
    "train_labels[train_labels == \"BENIGN\"] = 0\n",
    "# Setting all values above 1 to 1\n",
    "train_labels[train_labels == \"BENIGN_WITHOUT_CALLBACK\"] = 0\n",
    "\n",
    "train_labels[train_labels == \"MALIGNANT\"] = 1\n",
    "\n",
    "train_labels = train_labels.astype(int)"
   ]
  },
  {
   "cell_type": "code",
   "execution_count": null,
   "metadata": {},
   "outputs": [],
   "source": [
    "## Saving the data\n",
    "\n",
    "np.save('calctest_x.npy', train_x)\n",
    "np.save('calctest_y.npy', train_labels)"
   ]
  }
 ],
 "metadata": {
  "kernelspec": {
   "display_name": "Python 3",
   "language": "python",
   "name": "python3"
  },
  "language_info": {
   "codemirror_mode": {
    "name": "ipython",
    "version": 3
   },
   "file_extension": ".py",
   "mimetype": "text/x-python",
   "name": "python",
   "nbconvert_exporter": "python",
   "pygments_lexer": "ipython3",
   "version": "3.7.6"
  }
 },
 "nbformat": 4,
 "nbformat_minor": 2
}
